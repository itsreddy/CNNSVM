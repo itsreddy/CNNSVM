{
 "cells": [
  {
   "cell_type": "markdown",
   "metadata": {},
   "source": [
    "#### Import relevant packages and functions "
   ]
  },
  {
   "cell_type": "code",
   "execution_count": 2,
   "metadata": {},
   "outputs": [],
   "source": [
    "import cv2\n",
    "import numpy as np\n",
    "import csv\n",
    "#import codec\n",
    "from PIL import Image\n",
    "import pandas as pd\n",
    "import time\n",
    "from sklearn.utils import shuffle\n",
    "import matplotlib.pyplot as plt\n",
    "import matplotlib.image as mpimg"
   ]
  },
  {
   "cell_type": "code",
   "execution_count": 3,
   "metadata": {},
   "outputs": [
    {
     "name": "stderr",
     "output_type": "stream",
     "text": [
      "Using TensorFlow backend.\n"
     ]
    }
   ],
   "source": [
    "import tensorflow as tf\n",
    "from sklearn import preprocessing\n",
    "import keras\n",
    "from keras.models import Model\n",
    "# from keras.models import Sequential\n",
    "# from keras.layers import Flatten, Dense, Lambda\n",
    "# from keras.layers import Convolution2D, MaxPooling2D, Cropping2D\n",
    "# from keras.optimizers import Adamax, Adam, SGD\n",
    "# from keras.layers.normalization import BatchNormalization\n",
    "# from keras.layers.core import Dropout, Activation\n",
    "# from keras.callbacks import ReduceLROnPlateau\n",
    "# from sklearn.preprocessing import OneHotEncoder\n",
    "# from sklearn.preprocessing import LabelEncoder\n",
    "# from keras.layers import GlobalAveragePooling2D, Conv2D\n",
    "# from keras.initializers import TruncatedNormal\n",
    "# from keras.regularizers import l1, l2\n",
    "#from get_results import plot_roc_auc, plot_confusion_matrix\n",
    "# from keras.callbacks import ModelCheckpoint \n",
    "# from keras.utils import to_categorical\n",
    "from keras.models import load_model\n",
    "import keras.backend as K"
   ]
  },
  {
   "cell_type": "code",
   "execution_count": 4,
   "metadata": {},
   "outputs": [],
   "source": [
    "from keras.applications import MobileNet\n",
    "from keras.applications import imagenet_utils\n",
    "from keras.preprocessing.image import img_to_array\n",
    "from keras.preprocessing.image import load_img\n",
    "from keras.applications.mobilenet import preprocess_input"
   ]
  },
  {
   "cell_type": "markdown",
   "metadata": {},
   "source": [
    "#### Assign unique integer to each class"
   ]
  },
  {
   "cell_type": "code",
   "execution_count": 5,
   "metadata": {},
   "outputs": [],
   "source": [
    "def classfinder(class_string):\n",
    "    class_int = 0;\n",
    "    if class_string == \"FWD\" :\n",
    "        class_int = 0\n",
    "    elif class_string == \"R\" :\n",
    "        class_int = 1\n",
    "    elif class_string == \"TR\" :\n",
    "        class_int = 2   \n",
    "    elif class_string == \"T\" :\n",
    "        class_int = 3\n",
    "    elif class_string == \"TL\" :\n",
    "        class_int = 4\n",
    "    elif class_string == \"L\" :\n",
    "        class_int = 5\n",
    "    elif class_string == \"BL\" :\n",
    "        class_int = 6\n",
    "    elif class_string == \"B\" :\n",
    "        class_int = 7\n",
    "    elif class_string == \"BR\" :\n",
    "        class_int = 8 \n",
    "      \n",
    "    return class_int    "
   ]
  },
  {
   "cell_type": "markdown",
   "metadata": {},
   "source": [
    "#### Load the saved Models"
   ]
  },
  {
   "cell_type": "code",
   "execution_count": 6,
   "metadata": {},
   "outputs": [],
   "source": [
    "model_left = load_model('Models/MN_Aug-21_Left.h5')\n",
    "model_right = load_model('Models/MN_Aug-21_Right.h5')"
   ]
  },
  {
   "cell_type": "markdown",
   "metadata": {},
   "source": [
    "#### Load data from csv"
   ]
  },
  {
   "cell_type": "code",
   "execution_count": 7,
   "metadata": {},
   "outputs": [
    {
     "name": "stdout",
     "output_type": "stream",
     "text": [
      "<class 'list'>\n"
     ]
    },
    {
     "data": {
      "text/plain": [
       "FWD    1214\n",
       "TR      776\n",
       "BR      681\n",
       "BL      670\n",
       "TL      633\n",
       "L       290\n",
       "R       286\n",
       "B       255\n",
       "T       241\n",
       "Name: label, dtype: int64"
      ]
     },
     "execution_count": 7,
     "metadata": {},
     "output_type": "execute_result"
    }
   ],
   "source": [
    "vdf1 = pd.read_csv('filepaths/confusion_matrix_4_10_18.csv')\n",
    "\n",
    "df_modeltest = vdf1\n",
    "\n",
    "test_lines = []\n",
    "print(type(test_lines))\n",
    "test_lines = df_modeltest[df_modeltest.columns[0]].tolist()\n",
    "df_modeltest[\"label\"] = \"\"\n",
    "df_modeltest[\"side\"] = \"\"\n",
    "df_modeltest[\"left_net_op\"] = \"\"\n",
    "df_modeltest[\"right_net_op\"] = \"\"\n",
    "\n",
    "for (i,line) in enumerate(test_lines):\n",
    "    line = line.split(\"_\")\n",
    "    class_string = line[-2]\n",
    "    side_string = line[-1]\n",
    "    df_modeltest[\"label\"][i] = class_string\n",
    "    df_modeltest[\"side\"][i] = side_string\n",
    "\n",
    "df_modeltest.label.value_counts()"
   ]
  },
  {
   "cell_type": "code",
   "execution_count": 8,
   "metadata": {},
   "outputs": [
    {
     "name": "stdout",
     "output_type": "stream",
     "text": [
      "New Data Size: 2169 Old Size: 5046\n"
     ]
    },
    {
     "data": {
      "text/plain": [
       "TL     241\n",
       "BL     241\n",
       "BR     241\n",
       "T      241\n",
       "TR     241\n",
       "R      241\n",
       "L      241\n",
       "FWD    241\n",
       "B      241\n",
       "Name: label, dtype: int64"
      ]
     },
     "execution_count": 8,
     "metadata": {},
     "output_type": "execute_result"
    }
   ],
   "source": [
    "equi_df = df_modeltest.groupby(['label']).apply(lambda x: x.sample(241, replace = True)).reset_index(drop = True)\n",
    "print('New Data Size:', equi_df.shape[0], 'Old Size:', df_modeltest.shape[0])\n",
    "equi_df.label.value_counts()"
   ]
  },
  {
   "cell_type": "code",
   "execution_count": 9,
   "metadata": {},
   "outputs": [
    {
     "data": {
      "text/html": [
       "<div>\n",
       "<style scoped>\n",
       "    .dataframe tbody tr th:only-of-type {\n",
       "        vertical-align: middle;\n",
       "    }\n",
       "\n",
       "    .dataframe tbody tr th {\n",
       "        vertical-align: top;\n",
       "    }\n",
       "\n",
       "    .dataframe thead th {\n",
       "        text-align: right;\n",
       "    }\n",
       "</style>\n",
       "<table border=\"1\" class=\"dataframe\">\n",
       "  <thead>\n",
       "    <tr style=\"text-align: right;\">\n",
       "      <th></th>\n",
       "      <th>0</th>\n",
       "      <th>label</th>\n",
       "      <th>side</th>\n",
       "      <th>left_net_op</th>\n",
       "      <th>right_net_op</th>\n",
       "    </tr>\n",
       "  </thead>\n",
       "  <tbody>\n",
       "    <tr>\n",
       "      <th>0</th>\n",
       "      <td>FB65\\Left\\74251_enh15_B_0.png</td>\n",
       "      <td>B</td>\n",
       "      <td>0.png</td>\n",
       "      <td></td>\n",
       "      <td></td>\n",
       "    </tr>\n",
       "    <tr>\n",
       "      <th>1</th>\n",
       "      <td>FB34\\Left\\369646_enh14_B_0.png</td>\n",
       "      <td>B</td>\n",
       "      <td>0.png</td>\n",
       "      <td></td>\n",
       "      <td></td>\n",
       "    </tr>\n",
       "    <tr>\n",
       "      <th>2</th>\n",
       "      <td>FB18\\Left\\104982_enh11_B_0.png</td>\n",
       "      <td>B</td>\n",
       "      <td>0.png</td>\n",
       "      <td></td>\n",
       "      <td></td>\n",
       "    </tr>\n",
       "    <tr>\n",
       "      <th>3</th>\n",
       "      <td>FB114\\Left\\177516_enh10_B_0.png</td>\n",
       "      <td>B</td>\n",
       "      <td>0.png</td>\n",
       "      <td></td>\n",
       "      <td></td>\n",
       "    </tr>\n",
       "    <tr>\n",
       "      <th>4</th>\n",
       "      <td>FB34\\Left\\369646_enh11_B_0.png</td>\n",
       "      <td>B</td>\n",
       "      <td>0.png</td>\n",
       "      <td></td>\n",
       "      <td></td>\n",
       "    </tr>\n",
       "  </tbody>\n",
       "</table>\n",
       "</div>"
      ],
      "text/plain": [
       "                                 0 label   side left_net_op right_net_op\n",
       "0    FB65\\Left\\74251_enh15_B_0.png     B  0.png                         \n",
       "1   FB34\\Left\\369646_enh14_B_0.png     B  0.png                         \n",
       "2   FB18\\Left\\104982_enh11_B_0.png     B  0.png                         \n",
       "3  FB114\\Left\\177516_enh10_B_0.png     B  0.png                         \n",
       "4   FB34\\Left\\369646_enh11_B_0.png     B  0.png                         "
      ]
     },
     "execution_count": 9,
     "metadata": {},
     "output_type": "execute_result"
    }
   ],
   "source": [
    "# test_data = df_modeltest\n",
    "test_data = equi_df\n",
    "# check_pic = {\"\":[\"FB45/Left/350492_enh4_T_0.png\",\"FB45/Right/350492_enh4_T_0.png\"], \n",
    "#              'label': [\"T\", \"T\"], \n",
    "#              'side' : [\"0.png\", \"1.png\"]}\n",
    "# test_data = pd.DataFrame(data=check_pic)\n",
    "test_data.head()"
   ]
  },
  {
   "cell_type": "code",
   "execution_count": 10,
   "metadata": {},
   "outputs": [],
   "source": [
    "def findSecondBest(pred_list):\n",
    "    pred_list = pred_list[0]\n",
    "    preds = np.argsort(pred_list)[-2]\n",
    "#     print(preds)\n",
    "    return preds\n",
    "\n",
    "def findThirdBest(pred_list):\n",
    "    pred_list = pred_list[0]\n",
    "    preds = np.argsort(pred_list)[-3]\n",
    "    return preds\n",
    "    "
   ]
  },
  {
   "cell_type": "code",
   "execution_count": null,
   "metadata": {
    "scrolled": true
   },
   "outputs": [],
   "source": [
    "no_of_lines = 1 # len(test_data)\n",
    "count = 0\n",
    "c1 = 0\n",
    "c2 = 0\n",
    "c3 = 0\n",
    "c4 = 0\n",
    "for index in range(0, no_of_lines):\n",
    "    source_path = test_data.iloc[index][0]\n",
    "    filename = source_path\n",
    "    img = Image.open(source_path)\n",
    "    img.load()\n",
    "    img = img.resize((128, 128), Image.ANTIALIAS) \n",
    "    img_c = img.copy()\n",
    "    image = np.asarray(img_c)\n",
    "    image = preprocess_input(image)\n",
    "    print(source_path)\n",
    "    side = test_data.iloc[index][2]\n",
    "    if side == '0.png':\n",
    "        X = model_left.predict(np.array(image, ndmin = 4))\n",
    "        XL = X\n",
    "    if side == '1.png':\n",
    "        X = model_right.predict(np.array(image, ndmin = 4))\n",
    "        XR = X\n",
    "    secBest = findSecondBest(X)\n",
    "    thirdBest = findThirdBest(X)\n",
    "    print(X)\n",
    "    predicted_class = np.argmax(X)\n",
    "    print(\"predicted classes: \", predicted_class, secBest, thirdBest)\n",
    "    actual_class = classfinder((test_data.iloc[index][1]))\n",
    "    print(\"actual class: \", actual_class)\n",
    "#     if predicted_class == actual_class or (predicted_class + 1) % 9 == actual_class or (predicted_class - 1) % 9 == actual_class:\n",
    "#         count = count + 1\n",
    "#     if predicted_class == actual_class or actual_class == secBest or actual_class == thirdBest:\n",
    "    if predicted_class == actual_class:\n",
    "        count = count + 1\n",
    "        c1 = c1 + 1\n",
    "    elif (predicted_class == 0 and secBest == actual_class):\n",
    "        print(\"candidate for c2\")\n",
    "        count = count + 1\n",
    "        c2 = c2 + 1\n",
    "#     elif actual_class != 0 and ( (predicted_class + 1) % 9 == actual_class or (predicted_class - 1) % 9 == actual_class):\n",
    "    elif actual_class !=0:\n",
    "        if actual_class == 1 and (predicted_class == 2 or predicted_class == 8):\n",
    "            print(\"candidate for c3\")\n",
    "            count = count + 1\n",
    "            c3 = c3 + 1\n",
    "        elif actual_class == 8 and (predicted_class == 7 or predicted_class == 1):\n",
    "            print(\"candidate for c3\")\n",
    "            count = count + 1\n",
    "            c3 = c3 + 1\n",
    "        elif (predicted_class + 1) % 9 == actual_class or (predicted_class - 1) % 9 == actual_class:\n",
    "            print(\"candidate for c4\")\n",
    "            count = count + 1\n",
    "            c4= c4+ 1\n",
    "\n",
    "print(count, no_of_lines, count/no_of_lines)\n",
    "print(c1,c2,c3,c4)\n",
    "print()\n",
    "\n",
    "XLR = XL + XR\n",
    "print(XLR)\n",
    "print(np.argmax(XLR), findSecondBest(XLR), findThirdBest(XLR))"
   ]
  },
  {
   "cell_type": "code",
   "execution_count": 11,
   "metadata": {},
   "outputs": [
    {
     "name": "stdout",
     "output_type": "stream",
     "text": [
      "_________________________________________________________________\n",
      "Layer (type)                 Output Shape              Param #   \n",
      "=================================================================\n",
      "input_4 (InputLayer)         (None, 128, 128, 3)       0         \n",
      "_________________________________________________________________\n",
      "conv1_pad (ZeroPadding2D)    (None, 129, 129, 3)       0         \n",
      "_________________________________________________________________\n",
      "conv1 (Conv2D)               (None, 64, 64, 32)        864       \n",
      "_________________________________________________________________\n",
      "conv1_bn (BatchNormalization (None, 64, 64, 32)        128       \n",
      "_________________________________________________________________\n",
      "conv1_relu (ReLU)            (None, 64, 64, 32)        0         \n",
      "_________________________________________________________________\n",
      "conv_dw_1 (DepthwiseConv2D)  (None, 64, 64, 32)        288       \n",
      "_________________________________________________________________\n",
      "conv_dw_1_bn (BatchNormaliza (None, 64, 64, 32)        128       \n",
      "_________________________________________________________________\n",
      "conv_dw_1_relu (ReLU)        (None, 64, 64, 32)        0         \n",
      "_________________________________________________________________\n",
      "conv_pw_1 (Conv2D)           (None, 64, 64, 64)        2048      \n",
      "_________________________________________________________________\n",
      "conv_pw_1_bn (BatchNormaliza (None, 64, 64, 64)        256       \n",
      "_________________________________________________________________\n",
      "conv_pw_1_relu (ReLU)        (None, 64, 64, 64)        0         \n",
      "_________________________________________________________________\n",
      "conv_pad_2 (ZeroPadding2D)   (None, 65, 65, 64)        0         \n",
      "_________________________________________________________________\n",
      "conv_dw_2 (DepthwiseConv2D)  (None, 32, 32, 64)        576       \n",
      "_________________________________________________________________\n",
      "conv_dw_2_bn (BatchNormaliza (None, 32, 32, 64)        256       \n",
      "_________________________________________________________________\n",
      "conv_dw_2_relu (ReLU)        (None, 32, 32, 64)        0         \n",
      "_________________________________________________________________\n",
      "conv_pw_2 (Conv2D)           (None, 32, 32, 128)       8192      \n",
      "_________________________________________________________________\n",
      "conv_pw_2_bn (BatchNormaliza (None, 32, 32, 128)       512       \n",
      "_________________________________________________________________\n",
      "conv_pw_2_relu (ReLU)        (None, 32, 32, 128)       0         \n",
      "_________________________________________________________________\n",
      "conv_dw_3 (DepthwiseConv2D)  (None, 32, 32, 128)       1152      \n",
      "_________________________________________________________________\n",
      "conv_dw_3_bn (BatchNormaliza (None, 32, 32, 128)       512       \n",
      "_________________________________________________________________\n",
      "conv_dw_3_relu (ReLU)        (None, 32, 32, 128)       0         \n",
      "_________________________________________________________________\n",
      "conv_pw_3 (Conv2D)           (None, 32, 32, 128)       16384     \n",
      "_________________________________________________________________\n",
      "conv_pw_3_bn (BatchNormaliza (None, 32, 32, 128)       512       \n",
      "_________________________________________________________________\n",
      "conv_pw_3_relu (ReLU)        (None, 32, 32, 128)       0         \n",
      "_________________________________________________________________\n",
      "conv_pad_4 (ZeroPadding2D)   (None, 33, 33, 128)       0         \n",
      "_________________________________________________________________\n",
      "conv_dw_4 (DepthwiseConv2D)  (None, 16, 16, 128)       1152      \n",
      "_________________________________________________________________\n",
      "conv_dw_4_bn (BatchNormaliza (None, 16, 16, 128)       512       \n",
      "_________________________________________________________________\n",
      "conv_dw_4_relu (ReLU)        (None, 16, 16, 128)       0         \n",
      "_________________________________________________________________\n",
      "conv_pw_4 (Conv2D)           (None, 16, 16, 256)       32768     \n",
      "_________________________________________________________________\n",
      "conv_pw_4_bn (BatchNormaliza (None, 16, 16, 256)       1024      \n",
      "_________________________________________________________________\n",
      "conv_pw_4_relu (ReLU)        (None, 16, 16, 256)       0         \n",
      "_________________________________________________________________\n",
      "conv_dw_5 (DepthwiseConv2D)  (None, 16, 16, 256)       2304      \n",
      "_________________________________________________________________\n",
      "conv_dw_5_bn (BatchNormaliza (None, 16, 16, 256)       1024      \n",
      "_________________________________________________________________\n",
      "conv_dw_5_relu (ReLU)        (None, 16, 16, 256)       0         \n",
      "_________________________________________________________________\n",
      "conv_pw_5 (Conv2D)           (None, 16, 16, 256)       65536     \n",
      "_________________________________________________________________\n",
      "conv_pw_5_bn (BatchNormaliza (None, 16, 16, 256)       1024      \n",
      "_________________________________________________________________\n",
      "conv_pw_5_relu (ReLU)        (None, 16, 16, 256)       0         \n",
      "_________________________________________________________________\n",
      "conv_pad_6 (ZeroPadding2D)   (None, 17, 17, 256)       0         \n",
      "_________________________________________________________________\n",
      "conv_dw_6 (DepthwiseConv2D)  (None, 8, 8, 256)         2304      \n",
      "_________________________________________________________________\n",
      "conv_dw_6_bn (BatchNormaliza (None, 8, 8, 256)         1024      \n",
      "_________________________________________________________________\n",
      "conv_dw_6_relu (ReLU)        (None, 8, 8, 256)         0         \n",
      "_________________________________________________________________\n",
      "conv_pw_6 (Conv2D)           (None, 8, 8, 512)         131072    \n",
      "_________________________________________________________________\n",
      "conv_pw_6_bn (BatchNormaliza (None, 8, 8, 512)         2048      \n",
      "_________________________________________________________________\n",
      "conv_pw_6_relu (ReLU)        (None, 8, 8, 512)         0         \n",
      "_________________________________________________________________\n",
      "conv_dw_7 (DepthwiseConv2D)  (None, 8, 8, 512)         4608      \n",
      "_________________________________________________________________\n",
      "conv_dw_7_bn (BatchNormaliza (None, 8, 8, 512)         2048      \n",
      "_________________________________________________________________\n",
      "conv_dw_7_relu (ReLU)        (None, 8, 8, 512)         0         \n",
      "_________________________________________________________________\n",
      "conv_pw_7 (Conv2D)           (None, 8, 8, 512)         262144    \n",
      "_________________________________________________________________\n",
      "conv_pw_7_bn (BatchNormaliza (None, 8, 8, 512)         2048      \n",
      "_________________________________________________________________\n",
      "conv_pw_7_relu (ReLU)        (None, 8, 8, 512)         0         \n",
      "_________________________________________________________________\n",
      "conv_dw_8 (DepthwiseConv2D)  (None, 8, 8, 512)         4608      \n",
      "_________________________________________________________________\n",
      "conv_dw_8_bn (BatchNormaliza (None, 8, 8, 512)         2048      \n",
      "_________________________________________________________________\n",
      "conv_dw_8_relu (ReLU)        (None, 8, 8, 512)         0         \n",
      "_________________________________________________________________\n",
      "conv_pw_8 (Conv2D)           (None, 8, 8, 512)         262144    \n",
      "_________________________________________________________________\n",
      "conv_pw_8_bn (BatchNormaliza (None, 8, 8, 512)         2048      \n",
      "_________________________________________________________________\n",
      "conv_pw_8_relu (ReLU)        (None, 8, 8, 512)         0         \n",
      "_________________________________________________________________\n",
      "conv_dw_9 (DepthwiseConv2D)  (None, 8, 8, 512)         4608      \n",
      "_________________________________________________________________\n",
      "conv_dw_9_bn (BatchNormaliza (None, 8, 8, 512)         2048      \n",
      "_________________________________________________________________\n",
      "conv_dw_9_relu (ReLU)        (None, 8, 8, 512)         0         \n",
      "_________________________________________________________________\n",
      "conv_pw_9 (Conv2D)           (None, 8, 8, 512)         262144    \n",
      "_________________________________________________________________\n",
      "conv_pw_9_bn (BatchNormaliza (None, 8, 8, 512)         2048      \n",
      "_________________________________________________________________\n",
      "conv_pw_9_relu (ReLU)        (None, 8, 8, 512)         0         \n",
      "_________________________________________________________________\n",
      "conv_dw_10 (DepthwiseConv2D) (None, 8, 8, 512)         4608      \n",
      "_________________________________________________________________\n",
      "conv_dw_10_bn (BatchNormaliz (None, 8, 8, 512)         2048      \n",
      "_________________________________________________________________\n",
      "conv_dw_10_relu (ReLU)       (None, 8, 8, 512)         0         \n",
      "_________________________________________________________________\n",
      "conv_pw_10 (Conv2D)          (None, 8, 8, 512)         262144    \n",
      "_________________________________________________________________\n",
      "conv_pw_10_bn (BatchNormaliz (None, 8, 8, 512)         2048      \n",
      "_________________________________________________________________\n",
      "conv_pw_10_relu (ReLU)       (None, 8, 8, 512)         0         \n",
      "_________________________________________________________________\n",
      "conv_dw_11 (DepthwiseConv2D) (None, 8, 8, 512)         4608      \n",
      "_________________________________________________________________\n",
      "conv_dw_11_bn (BatchNormaliz (None, 8, 8, 512)         2048      \n",
      "_________________________________________________________________\n",
      "conv_dw_11_relu (ReLU)       (None, 8, 8, 512)         0         \n",
      "_________________________________________________________________\n",
      "conv_pw_11 (Conv2D)          (None, 8, 8, 512)         262144    \n",
      "_________________________________________________________________\n",
      "conv_pw_11_bn (BatchNormaliz (None, 8, 8, 512)         2048      \n",
      "_________________________________________________________________\n",
      "conv_pw_11_relu (ReLU)       (None, 8, 8, 512)         0         \n",
      "_________________________________________________________________\n",
      "conv_pad_12 (ZeroPadding2D)  (None, 9, 9, 512)         0         \n",
      "_________________________________________________________________\n",
      "conv_dw_12 (DepthwiseConv2D) (None, 4, 4, 512)         4608      \n",
      "_________________________________________________________________\n",
      "conv_dw_12_bn (BatchNormaliz (None, 4, 4, 512)         2048      \n",
      "_________________________________________________________________\n",
      "conv_dw_12_relu (ReLU)       (None, 4, 4, 512)         0         \n",
      "_________________________________________________________________\n",
      "conv_pw_12 (Conv2D)          (None, 4, 4, 1024)        524288    \n",
      "_________________________________________________________________\n",
      "conv_pw_12_bn (BatchNormaliz (None, 4, 4, 1024)        4096      \n",
      "_________________________________________________________________\n",
      "conv_pw_12_relu (ReLU)       (None, 4, 4, 1024)        0         \n",
      "_________________________________________________________________\n",
      "conv_dw_13 (DepthwiseConv2D) (None, 4, 4, 1024)        9216      \n",
      "_________________________________________________________________\n",
      "conv_dw_13_bn (BatchNormaliz (None, 4, 4, 1024)        4096      \n",
      "_________________________________________________________________\n",
      "conv_dw_13_relu (ReLU)       (None, 4, 4, 1024)        0         \n",
      "_________________________________________________________________\n",
      "conv_pw_13 (Conv2D)          (None, 4, 4, 1024)        1048576   \n",
      "_________________________________________________________________\n",
      "conv_pw_13_bn (BatchNormaliz (None, 4, 4, 1024)        4096      \n",
      "_________________________________________________________________\n",
      "conv_pw_13_relu (ReLU)       (None, 4, 4, 1024)        0         \n",
      "_________________________________________________________________\n",
      "global_average_pooling2d_5 ( (None, 1024)              0         \n",
      "_________________________________________________________________\n",
      "dense_9 (Dense)              (None, 500)               512500    \n",
      "_________________________________________________________________\n",
      "activation_7 (Activation)    (None, 500)               0         \n",
      "_________________________________________________________________\n",
      "dropout_7 (Dropout)          (None, 500)               0         \n",
      "_________________________________________________________________\n",
      "dense_10 (Dense)             (None, 200)               100200    \n",
      "_________________________________________________________________\n",
      "activation_8 (Activation)    (None, 200)               0         \n",
      "_________________________________________________________________\n",
      "dropout_8 (Dropout)          (None, 200)               0         \n",
      "_________________________________________________________________\n",
      "dense_11 (Dense)             (None, 50)                10050     \n",
      "_________________________________________________________________\n",
      "activation_9 (Activation)    (None, 50)                0         \n",
      "_________________________________________________________________\n",
      "dropout_9 (Dropout)          (None, 50)                0         \n",
      "_________________________________________________________________\n",
      "dense_12 (Dense)             (None, 9)                 459       \n",
      "=================================================================\n",
      "Total params: 3,852,073\n",
      "Trainable params: 3,830,185\n",
      "Non-trainable params: 21,888\n",
      "_________________________________________________________________\n"
     ]
    }
   ],
   "source": [
    "model_right.summary()"
   ]
  },
  {
   "cell_type": "code",
   "execution_count": 12,
   "metadata": {},
   "outputs": [],
   "source": [
    "layer_name_left = 'global_average_pooling2d_6'\n",
    "intermediate_layer_model_left = Model(inputs=model_left.input,\n",
    "                                 outputs=model_left.get_layer(layer_name_left).output)\n",
    "\n",
    "layer_name_right = 'global_average_pooling2d_5'\n",
    "intermediate_layer_model_right = Model(inputs=model_right.input,\n",
    "                                 outputs=model_right.get_layer(layer_name_right).output)"
   ]
  },
  {
   "cell_type": "code",
   "execution_count": 13,
   "metadata": {
    "scrolled": true
   },
   "outputs": [
    {
     "name": "stdout",
     "output_type": "stream",
     "text": [
      "Error Right\n",
      "Error Right\n",
      "Error Right\n",
      "Error Right\n",
      "Error Right\n",
      "Error Right\n",
      "Error Right\n",
      "Error Right\n",
      "(2169, 5)\n"
     ]
    }
   ],
   "source": [
    "no_of_lines = len(test_data)\n",
    "no_of_test_cases = no_of_lines\n",
    "count,c1,c2,c3,c4,second_count,fwd_count,percentage_count=0,0,0,0,0,0,0,0\n",
    "predictions_list = list()\n",
    "ground_truth_list = list()\n",
    "for index in range(0, no_of_lines): \n",
    "    source_path = test_data.iloc[index][0]\n",
    "    filename = \"Eyes_dp\\\\\" + source_path\n",
    "    try: \n",
    "        img = Image.open(filename)\n",
    "    except IOError:\n",
    "        print(\"Error Left\")\n",
    "        no_of_test_cases = no_of_test_cases - 1\n",
    "        continue\n",
    "    img.load()\n",
    "    img = img.resize((128, 128), Image.ANTIALIAS) \n",
    "    img_c = img.copy()\n",
    "    image = np.asarray(img_c)\n",
    "    image = preprocess_input(image)\n",
    "#     print(source_path)\n",
    "    \n",
    "    intermediate_output_left = intermediate_layer_model_left.predict(np.array(image, ndmin = 4))\n",
    "#     print(type(intermediate_output_left), type(intermediate_output_left[0]))\n",
    "    test_data.iloc[index][3] = intermediate_output_left[0].tolist()\n",
    "#     submission = pd.DataFrame(intermediate_output_left.tolist()[0]).to_csv('1000_classes_left.csv', index=False)\n",
    "   \n",
    "#     XL = model_left.predict(np.array(image, ndmin = 4))       \n",
    "    newfilename = filename.split(\"\\\\\")\n",
    "    newfilename[-2] = \"Right\"\n",
    "    name_split = newfilename[-1].split(\"_\")\n",
    "    name_split[-1] = \"1.png\"\n",
    "    newfilename[-1] = \"_\".join(name_split)\n",
    "    newfilename = \"\\\\\".join(newfilename)\n",
    "    try: \n",
    "        img = Image.open(newfilename)\n",
    "    except IOError:\n",
    "        try:\n",
    "            newfilename = filename.split(\"\\\\\")\n",
    "            newfilename[-2] = \"Flipped_to_right\"\n",
    "            name_split = newfilename[-1].split(\"_\")\n",
    "            name_split[-1] = \"01.png\"\n",
    "            newfilename[-1] = \"_\".join(name_split)\n",
    "            newfilename = \"\\\\\".join(newfilename)\n",
    "            img = Image.open(newfilename)\n",
    "        except:\n",
    "            print(\"Error Right\")\n",
    "#             test_data = test_data.drop(test_data.index[index], inplace=True)\n",
    "            continue\n",
    "#     print(newfilename)\n",
    "    img.load()\n",
    "    img = img.resize((128, 128), Image.ANTIALIAS) \n",
    "    img_c = img.copy()\n",
    "    image = np.asarray(img_c)\n",
    "    image = preprocess_input(image)\n",
    "    \n",
    "    intermediate_output_right = intermediate_layer_model_right.predict(np.array(image, ndmin = 4))\n",
    "    test_data.iloc[index][4] = intermediate_output_right[0].tolist()\n",
    "#     submission = pd.DataFrame(intermediate_output_right.tolist()[0]).to_csv('1000_classes_right.csv', index=False)\n",
    "    \n",
    "#     XR = model_right.predict(np.array(image, ndmin = 4))\n",
    "\n",
    "# print(count, no_of_test_cases, count/no_of_test_cases)\n",
    "# print(c1,c2,c3,c4)\n",
    "# print()\n",
    "\n",
    "# temp_df = test_data.iloc[0:5]\n",
    "print(test_data.shape)\n",
    "# sub = temp_df.to_pickle(\"test_df.pkl\")"
   ]
  },
  {
   "cell_type": "code",
   "execution_count": 14,
   "metadata": {},
   "outputs": [],
   "source": [
    "sub = test_data.to_pickle(\"test_df_equi_26_11.pkl\")"
   ]
  },
  {
   "cell_type": "code",
   "execution_count": 12,
   "metadata": {},
   "outputs": [],
   "source": [
    "from sklearn.utils import shuffle\n",
    "shuffled_test_df = shuffle(test_data)"
   ]
  },
  {
   "cell_type": "code",
   "execution_count": 14,
   "metadata": {},
   "outputs": [],
   "source": [
    "sub = shuffled_test_df.to_pickle(\"shuffled_test_df.pkl\")"
   ]
  },
  {
   "cell_type": "markdown",
   "metadata": {},
   "source": [
    "## With Imagenet weights"
   ]
  },
  {
   "cell_type": "code",
   "execution_count": null,
   "metadata": {},
   "outputs": [],
   "source": []
  },
  {
   "cell_type": "code",
   "execution_count": null,
   "metadata": {},
   "outputs": [],
   "source": []
  },
  {
   "cell_type": "code",
   "execution_count": null,
   "metadata": {},
   "outputs": [],
   "source": []
  },
  {
   "cell_type": "code",
   "execution_count": null,
   "metadata": {},
   "outputs": [],
   "source": []
  },
  {
   "cell_type": "code",
   "execution_count": null,
   "metadata": {},
   "outputs": [],
   "source": []
  },
  {
   "cell_type": "code",
   "execution_count": null,
   "metadata": {},
   "outputs": [],
   "source": []
  },
  {
   "cell_type": "markdown",
   "metadata": {},
   "source": [
    "## OLD CODE"
   ]
  },
  {
   "cell_type": "code",
   "execution_count": null,
   "metadata": {},
   "outputs": [],
   "source": [
    "print(second_count, fwd_count, percentage_count)"
   ]
  },
  {
   "cell_type": "code",
   "execution_count": null,
   "metadata": {},
   "outputs": [],
   "source": [
    "dict_ = {\"pred\": predictions_list, \n",
    "             'truth': ground_truth_list}\n",
    "df = pd.DataFrame(data=dict_)\n"
   ]
  },
  {
   "cell_type": "code",
   "execution_count": null,
   "metadata": {},
   "outputs": [],
   "source": [
    "norm_df = df.groupby(['pred']).apply(lambda x: x.sample(250, replace = True)).reset_index(drop = True)\n",
    "print('New Data Size:', norm_df.shape[0], 'Old Size:', df.shape[0])"
   ]
  },
  {
   "cell_type": "code",
   "execution_count": null,
   "metadata": {},
   "outputs": [],
   "source": [
    "import sklearn.metrics as metrics\n"
   ]
  },
  {
   "cell_type": "code",
   "execution_count": null,
   "metadata": {},
   "outputs": [],
   "source": [
    "confusion_matrix = metrics.confusion_matrix(y_true=norm_df[norm_df.columns[1]].tolist(), \n",
    "                                            y_pred=norm_df[norm_df.columns[0]].tolist())\n",
    "\n",
    "# confusion_matrix = metrics.confusion_matrix(y_pred=predictions_list,\n",
    "#                                            y_true=ground_truth_list)"
   ]
  },
  {
   "cell_type": "code",
   "execution_count": null,
   "metadata": {},
   "outputs": [],
   "source": [
    "counts_list = df.pred.value_counts().sort_index().tolist()\n",
    "print(type(counts_list))\n",
    "print(counts_list)"
   ]
  },
  {
   "cell_type": "code",
   "execution_count": null,
   "metadata": {},
   "outputs": [],
   "source": [
    "cm = confusion_matrix.copy()\n",
    "for i in range(9):\n",
    "    for j in range(9):\n",
    "        cm[i][j] = float(confusion_matrix[i][j])  / counts_list[j] * 100\n",
    "        \n",
    "# cm[0][0] = 5.43"
   ]
  },
  {
   "cell_type": "code",
   "execution_count": null,
   "metadata": {},
   "outputs": [],
   "source": [
    "print(cm)\n",
    "fig = plt.figure(figsize=(10,10))\n",
    "ax = fig.add_subplot(111)\n",
    "cax = ax.matshow(cm)\n",
    "plt.title('Confusion matrix of the classifier')\n",
    "fig.colorbar(cax)\n",
    "plt.show()"
   ]
  },
  {
   "cell_type": "code",
   "execution_count": null,
   "metadata": {},
   "outputs": [],
   "source": [
    "cnf_matrix = metrics.confusion_matrix(predictions_list, ground_truth_list)"
   ]
  },
  {
   "cell_type": "code",
   "execution_count": null,
   "metadata": {},
   "outputs": [],
   "source": [
    "import itertools\n",
    "def plot_confusion_matrix(cm, classes,\n",
    "                          normalize=False,\n",
    "                          title='Confusion matrix',\n",
    "                          cmap=plt.cm.Blues):\n",
    "    \"\"\"\n",
    "    This function prints and plots the confusion matrix.\n",
    "    Normalization can be applied by setting `normalize=True`.\n",
    "    \"\"\"\n",
    "    if normalize:\n",
    "        cm = cm.astype('float') / cm.sum(axis=1)[:, np.newaxis]\n",
    "        print(\"Normalized confusion matrix\")\n",
    "    else:\n",
    "        print('Confusion matrix, without normalization')\n",
    "\n",
    "    print(cm)\n",
    "\n",
    "    plt.imshow(cm, interpolation='nearest', cmap=cmap)\n",
    "    plt.title(title)\n",
    "    plt.colorbar()\n",
    "    tick_marks = np.arange(len(classes))\n",
    "    plt.xticks(tick_marks, classes, rotation=45)\n",
    "    plt.yticks(tick_marks, classes)\n",
    "\n",
    "    fmt = '.2f' if normalize else 'd'\n",
    "    thresh = cm.max() / 2.\n",
    "    for i, j in itertools.product(range(cm.shape[0]), range(cm.shape[1])):\n",
    "        plt.text(j, i, format(cm[i, j], fmt),\n",
    "                 horizontalalignment=\"center\",\n",
    "                 color=\"white\" if cm[i, j] > thresh else \"black\")\n",
    "\n",
    "    plt.ylabel('True label')\n",
    "    plt.xlabel('Predicted label')\n",
    "    plt.tight_layout()"
   ]
  },
  {
   "cell_type": "code",
   "execution_count": null,
   "metadata": {
    "scrolled": false
   },
   "outputs": [],
   "source": [
    "plt.figure(figsize=(10,10))\n",
    "class_list = list(range(9))\n",
    "plot_confusion_matrix(cnf_matrix, classes=class_list, normalize=True)"
   ]
  },
  {
   "cell_type": "code",
   "execution_count": null,
   "metadata": {},
   "outputs": [],
   "source": []
  }
 ],
 "metadata": {
  "kernelspec": {
   "display_name": "Python 3",
   "language": "python",
   "name": "python3"
  },
  "language_info": {
   "codemirror_mode": {
    "name": "ipython",
    "version": 3
   },
   "file_extension": ".py",
   "mimetype": "text/x-python",
   "name": "python",
   "nbconvert_exporter": "python",
   "pygments_lexer": "ipython3",
   "version": "3.6.5"
  }
 },
 "nbformat": 4,
 "nbformat_minor": 2
}
